{
 "cells": [
  {
   "cell_type": "code",
   "execution_count": 651,
   "metadata": {},
   "outputs": [],
   "source": [
    "import pandas as pd\n",
    "import numpy as np\n",
    "\n",
    "from scipy.stats import zscore\n",
    "#from sklearn.preprocessing import Imputer\n",
    "from sklearn.metrics import accuracy_score\n",
    "import seaborn as sns\n",
    "#from imblearn.over_sampling import SMOTE\n",
    "from sklearn.tree import DecisionTreeClassifier\n",
    "from sklearn.linear_model import LogisticRegression\n",
    "from sklearn.neighbors import KNeighborsClassifier\n",
    "from scipy.stats import zscore\n",
    "#from sklearn.preprocessing import Imputer\n",
    "from sklearn.metrics import accuracy_score\n",
    "from sklearn import metrics\n",
    "from sklearn.preprocessing import MaxAbsScaler\n",
    "import warnings\n",
    "warnings.simplefilter(action='ignore', category=FutureWarning)\n",
    "warnings.simplefilter(action='ignore', category=UserWarning)\n",
    "from scipy.stats import rankdata\n",
    "#import lightgbm as lgb\n",
    "from sklearn import metrics\n",
    "import gc\n",
    "import warnings\n",
    "import seaborn as sns\n",
    "import matplotlib.pyplot as plt\n",
    "import warnings\n",
    "import itertools\n",
    "from sklearn import metrics\n",
    "from scipy.stats import norm, rankdata\n",
    "#from sklearn.feature_selection import RFE\n",
    "from sklearn.linear_model import LogisticRegression\n",
    "from sklearn.metrics import roc_auc_score, roc_curve\n",
    "from sklearn.metrics import f1_score\n",
    "from sklearn.metrics import confusion_matrix\n",
    "from sklearn.metrics import classification_report\n",
    "from scipy.stats import rankdata\n",
    "pd.set_option('display.max_columns', 200)\n",
    "# below is to have multiple outputs from same Jupyter cells\n",
    "from IPython.core.interactiveshell import InteractiveShell\n",
    "InteractiveShell.ast_node_interactivity = \"all\"\n",
    "warnings.filterwarnings('ignore')\n",
    "#from feature_selector import FeatureSelector\n",
    "from sklearn.linear_model import SGDRegressor,LinearRegression,Ridge,Lasso,ElasticNet\n",
    "from sklearn.ensemble import GradientBoostingRegressor,RandomForestRegressor,AdaBoostRegressor\n",
    "from sklearn.tree import DecisionTreeRegressor\n",
    "from xgboost import XGBRegressor\n",
    "from sklearn.compose import TransformedTargetRegressor\n",
    "from sklearn.model_selection import GridSearchCV, RandomizedSearchCV"
   ]
  },
  {
   "cell_type": "code",
   "execution_count": 652,
   "metadata": {},
   "outputs": [
    {
     "name": "stdout",
     "output_type": "stream",
     "text": [
      "(8523, 12) (5681, 11)\n"
     ]
    }
   ],
   "source": [
    "train_org=pd.read_csv(\"train_v9rqX0R.csv\")\n",
    "test_org=pd.read_csv(\"test_AbJTz2l.csv\")\n",
    "train=train_org.copy()\n",
    "test=test_org.copy()\n",
    "label_col='Item_Outlet_Sales'\n",
    "ntest=test.shape[1]\n",
    "print(train.shape,test.shape)\n"
   ]
  },
  {
   "cell_type": "code",
   "execution_count": 653,
   "metadata": {},
   "outputs": [
    {
     "data": {
      "text/plain": [
       "8523"
      ]
     },
     "execution_count": 653,
     "metadata": {},
     "output_type": "execute_result"
    }
   ],
   "source": [
    "ntrain=train.shape[0]\n",
    "ntrain"
   ]
  },
  {
   "cell_type": "code",
   "execution_count": 654,
   "metadata": {},
   "outputs": [],
   "source": [
    "#merging both test and train\n",
    "train_test=pd.concat([train_org,test_org],ignore_index=True)"
   ]
  },
  {
   "cell_type": "code",
   "execution_count": 655,
   "metadata": {},
   "outputs": [
    {
     "data": {
      "text/html": [
       "<div>\n",
       "<style scoped>\n",
       "    .dataframe tbody tr th:only-of-type {\n",
       "        vertical-align: middle;\n",
       "    }\n",
       "\n",
       "    .dataframe tbody tr th {\n",
       "        vertical-align: top;\n",
       "    }\n",
       "\n",
       "    .dataframe thead th {\n",
       "        text-align: right;\n",
       "    }\n",
       "</style>\n",
       "<table border=\"1\" class=\"dataframe\">\n",
       "  <thead>\n",
       "    <tr style=\"text-align: right;\">\n",
       "      <th></th>\n",
       "      <th>Item_Identifier</th>\n",
       "      <th>Item_Weight</th>\n",
       "      <th>Item_Fat_Content</th>\n",
       "      <th>Item_Visibility</th>\n",
       "      <th>Item_Type</th>\n",
       "      <th>Item_MRP</th>\n",
       "      <th>Outlet_Identifier</th>\n",
       "      <th>Outlet_Establishment_Year</th>\n",
       "      <th>Outlet_Size</th>\n",
       "      <th>Outlet_Location_Type</th>\n",
       "      <th>Outlet_Type</th>\n",
       "      <th>Item_Outlet_Sales</th>\n",
       "    </tr>\n",
       "  </thead>\n",
       "  <tbody>\n",
       "    <tr>\n",
       "      <th>0</th>\n",
       "      <td>FDA15</td>\n",
       "      <td>9.30</td>\n",
       "      <td>Low Fat</td>\n",
       "      <td>0.016047</td>\n",
       "      <td>Dairy</td>\n",
       "      <td>249.8092</td>\n",
       "      <td>OUT049</td>\n",
       "      <td>1999</td>\n",
       "      <td>Medium</td>\n",
       "      <td>Tier 1</td>\n",
       "      <td>Supermarket Type1</td>\n",
       "      <td>3735.1380</td>\n",
       "    </tr>\n",
       "    <tr>\n",
       "      <th>1</th>\n",
       "      <td>DRC01</td>\n",
       "      <td>5.92</td>\n",
       "      <td>Regular</td>\n",
       "      <td>0.019278</td>\n",
       "      <td>Soft Drinks</td>\n",
       "      <td>48.2692</td>\n",
       "      <td>OUT018</td>\n",
       "      <td>2009</td>\n",
       "      <td>Medium</td>\n",
       "      <td>Tier 3</td>\n",
       "      <td>Supermarket Type2</td>\n",
       "      <td>443.4228</td>\n",
       "    </tr>\n",
       "  </tbody>\n",
       "</table>\n",
       "</div>"
      ],
      "text/plain": [
       "  Item_Identifier  Item_Weight Item_Fat_Content  Item_Visibility    Item_Type  \\\n",
       "0           FDA15         9.30          Low Fat         0.016047        Dairy   \n",
       "1           DRC01         5.92          Regular         0.019278  Soft Drinks   \n",
       "\n",
       "   Item_MRP Outlet_Identifier  Outlet_Establishment_Year Outlet_Size  \\\n",
       "0  249.8092            OUT049                       1999      Medium   \n",
       "1   48.2692            OUT018                       2009      Medium   \n",
       "\n",
       "  Outlet_Location_Type        Outlet_Type  Item_Outlet_Sales  \n",
       "0               Tier 1  Supermarket Type1          3735.1380  \n",
       "1               Tier 3  Supermarket Type2           443.4228  "
      ]
     },
     "execution_count": 655,
     "metadata": {},
     "output_type": "execute_result"
    }
   ],
   "source": [
    "train_test.head(2)"
   ]
  },
  {
   "cell_type": "code",
   "execution_count": 656,
   "metadata": {},
   "outputs": [
    {
     "data": {
      "text/plain": [
       "['Item_Identifier',\n",
       " 'Item_Fat_Content',\n",
       " 'Item_Type',\n",
       " 'Outlet_Identifier',\n",
       " 'Outlet_Size',\n",
       " 'Outlet_Location_Type',\n",
       " 'Outlet_Type']"
      ]
     },
     "execution_count": 656,
     "metadata": {},
     "output_type": "execute_result"
    }
   ],
   "source": [
    "categorical_columns=[x for x in train_test.dtypes.index if train_test.dtypes[x]=='object']\n",
    "categorical_columns"
   ]
  },
  {
   "cell_type": "code",
   "execution_count": 657,
   "metadata": {},
   "outputs": [
    {
     "data": {
      "text/plain": [
       "<AxesSubplot:>"
      ]
     },
     "execution_count": 657,
     "metadata": {},
     "output_type": "execute_result"
    },
    {
     "data": {
      "image/png": "[encoded data removed]",
      "text/plain": [
       "<Figure size 432x288 with 1 Axes>"
      ]
     },
     "metadata": {
      "needs_background": "light"
     },
     "output_type": "display_data"
    }
   ],
   "source": [
    "train_test.Item_Weight.hist(bins=50)"
   ]
  },
  {
   "cell_type": "code",
   "execution_count": 658,
   "metadata": {},
   "outputs": [
    {
     "data": {
      "text/plain": [
       "<AxesSubplot:>"
      ]
     },
     "execution_count": 658,
     "metadata": {},
     "output_type": "execute_result"
    },
    {
     "data": {
      "image/png": "[encoded data removed]",
      "text/plain": [
       "<Figure size 432x288 with 1 Axes>"
      ]
     },
     "metadata": {
      "needs_background": "light"
     },
     "output_type": "display_data"
    }
   ],
   "source": [
    "data.Item_Visibility.hist(bins=50)  ## right skewed"
   ]
  },
  {
   "cell_type": "code",
   "execution_count": 659,
   "metadata": {},
   "outputs": [],
   "source": [
    "train_test['Item_visibility_sqrt'] = np.sqrt(train_test['Item_Visibility'])"
   ]
  },
  {
   "cell_type": "code",
   "execution_count": 660,
   "metadata": {},
   "outputs": [
    {
     "data": {
      "text/plain": [
       "<AxesSubplot:>"
      ]
     },
     "execution_count": 660,
     "metadata": {},
     "output_type": "execute_result"
    },
    {
     "data": {
      "image/png": "[encoded data removed]",
      "text/plain": [
       "<Figure size 432x288 with 1 Axes>"
      ]
     },
     "metadata": {
      "needs_background": "light"
     },
     "output_type": "display_data"
    }
   ],
   "source": [
    "train_test.Item_visibility_sqrt.hist(bins=50)  # perfect #bell shape"
   ]
  },
  {
   "cell_type": "code",
   "execution_count": 661,
   "metadata": {},
   "outputs": [
    {
     "data": {
      "text/plain": [
       "<AxesSubplot:>"
      ]
     },
     "execution_count": 661,
     "metadata": {},
     "output_type": "execute_result"
    },
    {
     "data": {
      "image/png": "[encoded data removed]",
      "text/plain": [
       "<Figure size 432x288 with 1 Axes>"
      ]
     },
     "metadata": {
      "needs_background": "light"
     },
     "output_type": "display_data"
    }
   ],
   "source": [
    "train_test.Item_MRP.hist(bins=50)  #looks like uniform"
   ]
  },
  {
   "cell_type": "code",
   "execution_count": 662,
   "metadata": {},
   "outputs": [],
   "source": [
    "train_test['MRP_lognorm'] = np.log(train_test['Item_MRP'])"
   ]
  },
  {
   "cell_type": "code",
   "execution_count": 663,
   "metadata": {},
   "outputs": [
    {
     "data": {
      "text/plain": [
       "<AxesSubplot:>"
      ]
     },
     "execution_count": 663,
     "metadata": {},
     "output_type": "execute_result"
    },
    {
     "data": {
      "image/png": "[encoded data removed]",
      "text/plain": [
       "<Figure size 432x288 with 1 Axes>"
      ]
     },
     "metadata": {
      "needs_background": "light"
     },
     "output_type": "display_data"
    }
   ],
   "source": [
    "train_test.MRP_lognorm.hist(bins=50)  #left skewed??"
   ]
  },
  {
   "cell_type": "code",
   "execution_count": 664,
   "metadata": {},
   "outputs": [
    {
     "data": {
      "text/plain": [
       "array(['Low Fat', 'Regular', 'low fat', 'LF', 'reg'], dtype=object)"
      ]
     },
     "execution_count": 664,
     "metadata": {},
     "output_type": "execute_result"
    }
   ],
   "source": [
    "train_test['Item_Fat_Content'].unique()"
   ]
  },
  {
   "cell_type": "code",
   "execution_count": 665,
   "metadata": {},
   "outputs": [
    {
     "name": "stdout",
     "output_type": "stream",
     "text": [
      "\n",
      "Modified Categories for : Item_Fat_Content\n"
     ]
    }
   ],
   "source": [
    "# Mapping\n",
    "train_test['Item_Fat_Content'] = train_test['Item_Fat_Content'].replace({'LF': 1,\n",
    "                                                                         'Low Fat':1,\n",
    "                                                                         'low fat':1,\n",
    "                                                                         'reg':2,\n",
    "                                                                         'Regular':2})"
   ]
  },
  {
   "cell_type": "code",
   "execution_count": 579,
   "metadata": {},
   "outputs": [],
   "source": [
    "import seaborn as sns"
   ]
  },
  {
   "cell_type": "code",
   "execution_count": 580,
   "metadata": {},
   "outputs": [
    {
     "data": {
      "text/plain": [
       "Item_Identifier                 0\n",
       "Item_Weight                  2439\n",
       "Item_Fat_Content                0\n",
       "Item_Visibility                 0\n",
       "Item_Type                       0\n",
       "Item_MRP                        0\n",
       "Outlet_Identifier               0\n",
       "Outlet_Establishment_Year       0\n",
       "Outlet_Size                  4016\n",
       "Outlet_Location_Type            0\n",
       "Outlet_Type                     0\n",
       "Item_Outlet_Sales            5681\n",
       "Item_visibility_sqrt            0\n",
       "MRP_lognorm                     0\n",
       "dtype: int64"
      ]
     },
     "execution_count": 580,
     "metadata": {},
     "output_type": "execute_result"
    }
   ],
   "source": [
    "#outliers\n",
    "train_test.isnull().sum()"
   ]
  },
  {
   "cell_type": "markdown",
   "metadata": {},
   "source": [
    "## Missing value Treatmet for categorical values (mode Insertion)"
   ]
  },
  {
   "cell_type": "code",
   "execution_count": 581,
   "metadata": {},
   "outputs": [
    {
     "data": {
      "text/plain": [
       "Outlet_Identifier\n",
       "OUT010        Grocery Store\n",
       "OUT013    Supermarket Type1\n",
       "OUT017    Supermarket Type1\n",
       "OUT018    Supermarket Type2\n",
       "OUT019        Grocery Store\n",
       "OUT027    Supermarket Type3\n",
       "OUT035    Supermarket Type1\n",
       "OUT045    Supermarket Type1\n",
       "OUT046    Supermarket Type1\n",
       "OUT049    Supermarket Type1\n",
       "Name: Outlet_Type, dtype: object"
      ]
     },
     "execution_count": 581,
     "metadata": {},
     "output_type": "execute_result"
    }
   ],
   "source": [
    "train.groupby(['Outlet_Identifier'])['Outlet_Type'].agg(pd.Series.mode)#.mode(np.mode())"
   ]
  },
  {
   "cell_type": "code",
   "execution_count": 582,
   "metadata": {},
   "outputs": [
    {
     "data": {
      "text/plain": [
       "Tier 2    1855\n",
       "Tier 3     555\n",
       "Name: Outlet_Location_Type, dtype: int64"
      ]
     },
     "execution_count": 582,
     "metadata": {},
     "output_type": "execute_result"
    }
   ],
   "source": [
    "train[train['Outlet_Size'].isna()]['Outlet_Location_Type'].value_counts()"
   ]
  },
  {
   "cell_type": "code",
   "execution_count": 583,
   "metadata": {},
   "outputs": [
    {
     "data": {
      "text/plain": [
       "Outlet_Location_Type\n",
       "Tier 1     Small\n",
       "Tier 2     Small\n",
       "Tier 3    Medium\n",
       "Name: Outlet_Size, dtype: object"
      ]
     },
     "execution_count": 583,
     "metadata": {},
     "output_type": "execute_result"
    }
   ],
   "source": [
    "train.groupby(['Outlet_Location_Type'])['Outlet_Size'].agg(pd.Series.mode)"
   ]
  },
  {
   "cell_type": "code",
   "execution_count": 584,
   "metadata": {},
   "outputs": [
    {
     "data": {
      "text/plain": [
       "Outlet_Identifier\n",
       "OUT010    Tier 3\n",
       "OUT017    Tier 2\n",
       "OUT045    Tier 2\n",
       "Name: Outlet_Location_Type, dtype: object"
      ]
     },
     "execution_count": 584,
     "metadata": {},
     "output_type": "execute_result"
    }
   ],
   "source": [
    "train_test[train_test['Outlet_Size'].isna()].groupby(['Outlet_Identifier'])['Outlet_Location_Type'].agg(pd.Series.mode)"
   ]
  },
  {
   "cell_type": "code",
   "execution_count": 585,
   "metadata": {},
   "outputs": [
    {
     "data": {
      "text/plain": [
       "Outlet_Location_Type\n",
       "Tier 1    Supermarket Type1\n",
       "Tier 2    Supermarket Type1\n",
       "Tier 3    Supermarket Type3\n",
       "Name: Outlet_Type, dtype: object"
      ]
     },
     "execution_count": 585,
     "metadata": {},
     "output_type": "execute_result"
    }
   ],
   "source": [
    "train_test.groupby(['Outlet_Location_Type'])['Outlet_Type'].agg(pd.Series.mode)#.mode(np.mode())"
   ]
  },
  {
   "cell_type": "code",
   "execution_count": 586,
   "metadata": {},
   "outputs": [
    {
     "data": {
      "text/plain": [
       "Outlet_Type\n",
       "Grocery Store         Small\n",
       "Supermarket Type1     Small\n",
       "Supermarket Type2    Medium\n",
       "Supermarket Type3    Medium\n",
       "Name: Outlet_Size, dtype: object"
      ]
     },
     "execution_count": 586,
     "metadata": {},
     "output_type": "execute_result"
    }
   ],
   "source": [
    "train_test.groupby(['Outlet_Type'])['Outlet_Size'].agg(pd.Series.mode)#.mode(np.mode())"
   ]
  },
  {
   "cell_type": "code",
   "execution_count": 587,
   "metadata": {},
   "outputs": [],
   "source": [
    "index=(train_test['Outlet_Size'].isna())\n",
    "train_test.loc[index & (train_test['Outlet_Identifier']=='OUT010') & (train_test['Outlet_Type']=='Grocery Store'),'Outlet_Size']='Small'\n",
    "train_test.loc[index & (train_test['Outlet_Identifier']=='OUT045') & (train_test['Outlet_Type']=='Supermarket Type1'),'Outlet_Size']='Medium'\n",
    "train_test.loc[index & (train_test['Outlet_Identifier']=='OUT017') & (train_test['Outlet_Type']=='Supermarket Type1'),'Outlet_Size']='Small'"
   ]
  },
  {
   "cell_type": "code",
   "execution_count": 588,
   "metadata": {},
   "outputs": [],
   "source": [
    "#Mapping\n",
    "train_test['Outlet_Size']=train_test['Outlet_Size'].replace({'Small':1,\n",
    "                                                            'Medium':2,\n",
    "                                                            'High':3})"
   ]
  },
  {
   "cell_type": "code",
   "execution_count": 589,
   "metadata": {},
   "outputs": [],
   "source": [
    "#cond=(train_test['Item_Weight'].isna())\n",
    "#train_test.loc[cond,'Item_Weight']\n",
    "#map1=dict(train_test.groupby(['Item_Identifier'])['Item_Weight'].median())\n",
    "#map1\n",
    "#pd.pivot_table('Item_Weight',index='Item_Identifier',aggfunc=np.mean())\n",
    "#train_test.loc[cond,'Item_Weight']=train_test.loc[cond,'Item_Identifier'].apply(lambda x :map1[x] )"
   ]
  },
  {
   "cell_type": "markdown",
   "metadata": {},
   "source": [
    "### replacing Item_Weight with median"
   ]
  },
  {
   "cell_type": "code",
   "execution_count": 590,
   "metadata": {},
   "outputs": [],
   "source": [
    "train_test[\"Item_Weight\"].fillna(train_test.groupby([\"Item_Identifier\"])[\"Item_Weight\"].transform(\"median\"), inplace=True)"
   ]
  },
  {
   "cell_type": "code",
   "execution_count": 591,
   "metadata": {},
   "outputs": [
    {
     "data": {
      "text/plain": [
       "Item_Identifier                 0\n",
       "Item_Weight                     0\n",
       "Item_Fat_Content                0\n",
       "Item_Visibility                 0\n",
       "Item_Type                       0\n",
       "Item_MRP                        0\n",
       "Outlet_Identifier               0\n",
       "Outlet_Establishment_Year       0\n",
       "Outlet_Size                     0\n",
       "Outlet_Location_Type            0\n",
       "Outlet_Type                     0\n",
       "Item_Outlet_Sales            5681\n",
       "Item_visibility_sqrt            0\n",
       "MRP_lognorm                     0\n",
       "dtype: int64"
      ]
     },
     "execution_count": 591,
     "metadata": {},
     "output_type": "execute_result"
    }
   ],
   "source": [
    "train_test.isnull().sum()"
   ]
  },
  {
   "cell_type": "code",
   "execution_count": 592,
   "metadata": {},
   "outputs": [
    {
     "data": {
      "text/plain": [
       "<AxesSubplot:xlabel='Item_Visibility', ylabel='Item_Outlet_Sales'>"
      ]
     },
     "execution_count": 592,
     "metadata": {},
     "output_type": "execute_result"
    },
    {
     "data": {
      "image/png": "[encoded data removed]",
      "text/plain": [
       "<Figure size 432x288 with 1 Axes>"
      ]
     },
     "metadata": {
      "needs_background": "light"
     },
     "output_type": "display_data"
    }
   ],
   "source": [
    "import seaborn as sns\n",
    "sns.scatterplot(x='Item_Visibility',y=label_col,data=train)   ## outlier after .2"
   ]
  },
  {
   "cell_type": "code",
   "execution_count": 593,
   "metadata": {},
   "outputs": [
    {
     "data": {
      "text/html": [
       "<div>\n",
       "<style scoped>\n",
       "    .dataframe tbody tr th:only-of-type {\n",
       "        vertical-align: middle;\n",
       "    }\n",
       "\n",
       "    .dataframe tbody tr th {\n",
       "        vertical-align: top;\n",
       "    }\n",
       "\n",
       "    .dataframe thead th {\n",
       "        text-align: right;\n",
       "    }\n",
       "</style>\n",
       "<table border=\"1\" class=\"dataframe\">\n",
       "  <thead>\n",
       "    <tr style=\"text-align: right;\">\n",
       "      <th></th>\n",
       "      <th>Item_Identifier</th>\n",
       "      <th>Item_Weight</th>\n",
       "      <th>Item_Fat_Content</th>\n",
       "      <th>Item_Visibility</th>\n",
       "      <th>Item_Type</th>\n",
       "      <th>Item_MRP</th>\n",
       "      <th>Outlet_Identifier</th>\n",
       "      <th>Outlet_Establishment_Year</th>\n",
       "      <th>Outlet_Size</th>\n",
       "      <th>Outlet_Location_Type</th>\n",
       "      <th>Outlet_Type</th>\n",
       "      <th>Item_Outlet_Sales</th>\n",
       "    </tr>\n",
       "  </thead>\n",
       "  <tbody>\n",
       "    <tr>\n",
       "      <th>0</th>\n",
       "      <td>FDA15</td>\n",
       "      <td>9.30</td>\n",
       "      <td>Low Fat</td>\n",
       "      <td>0.016047</td>\n",
       "      <td>Dairy</td>\n",
       "      <td>249.8092</td>\n",
       "      <td>OUT049</td>\n",
       "      <td>1999</td>\n",
       "      <td>Medium</td>\n",
       "      <td>Tier 1</td>\n",
       "      <td>Supermarket Type1</td>\n",
       "      <td>3735.1380</td>\n",
       "    </tr>\n",
       "    <tr>\n",
       "      <th>1</th>\n",
       "      <td>DRC01</td>\n",
       "      <td>5.92</td>\n",
       "      <td>Regular</td>\n",
       "      <td>0.019278</td>\n",
       "      <td>Soft Drinks</td>\n",
       "      <td>48.2692</td>\n",
       "      <td>OUT018</td>\n",
       "      <td>2009</td>\n",
       "      <td>Medium</td>\n",
       "      <td>Tier 3</td>\n",
       "      <td>Supermarket Type2</td>\n",
       "      <td>443.4228</td>\n",
       "    </tr>\n",
       "  </tbody>\n",
       "</table>\n",
       "</div>"
      ],
      "text/plain": [
       "  Item_Identifier  Item_Weight Item_Fat_Content  Item_Visibility    Item_Type  \\\n",
       "0           FDA15         9.30          Low Fat         0.016047        Dairy   \n",
       "1           DRC01         5.92          Regular         0.019278  Soft Drinks   \n",
       "\n",
       "   Item_MRP Outlet_Identifier  Outlet_Establishment_Year Outlet_Size  \\\n",
       "0  249.8092            OUT049                       1999      Medium   \n",
       "1   48.2692            OUT018                       2009      Medium   \n",
       "\n",
       "  Outlet_Location_Type        Outlet_Type  Item_Outlet_Sales  \n",
       "0               Tier 1  Supermarket Type1          3735.1380  \n",
       "1               Tier 3  Supermarket Type2           443.4228  "
      ]
     },
     "execution_count": 593,
     "metadata": {},
     "output_type": "execute_result"
    }
   ],
   "source": [
    "train[train['Item_Visibility']<1.9].head(2)"
   ]
  },
  {
   "cell_type": "code",
   "execution_count": 594,
   "metadata": {},
   "outputs": [],
   "source": [
    "itemID_vis_Map=dict(train_test[train_test['Item_Visibility']<1.9].groupby(['Item_Identifier'])['Item_Visibility'].mean().round(6))\n",
    "#itemID_vis_Map"
   ]
  },
  {
   "cell_type": "code",
   "execution_count": 595,
   "metadata": {},
   "outputs": [
    {
     "data": {
      "text/plain": [
       "(160,)"
      ]
     },
     "execution_count": 595,
     "metadata": {},
     "output_type": "execute_result"
    }
   ],
   "source": [
    "train.loc[train['Item_Visibility']>0.19,'Item_Visibility'].shape\n",
    "train_test[:ntrain].loc[train_test[:ntrain]['Item_Visibility']>0.190,'Item_Visibility']=train_test[:ntrain].loc[train_test[:ntrain]['Item_Visibility']>0.190]['Item_Identifier'].apply(lambda x:itemID_vis_Map[x])"
   ]
  },
  {
   "cell_type": "code",
   "execution_count": 596,
   "metadata": {},
   "outputs": [],
   "source": [
    "train_test[:ntrain].loc[train_test[:ntrain]['Item_Visibility']==0,'Item_Visibility']=train_test[:ntrain].loc[train_test[:ntrain]['Item_Visibility']==0]['Item_Identifier'].apply(lambda x:itemID_vis_Map[x])"
   ]
  },
  {
   "cell_type": "code",
   "execution_count": 597,
   "metadata": {},
   "outputs": [
    {
     "data": {
      "text/plain": [
       "<AxesSubplot:xlabel='Item_Visibility', ylabel='Item_Outlet_Sales'>"
      ]
     },
     "execution_count": 597,
     "metadata": {},
     "output_type": "execute_result"
    },
    {
     "data": {
      "image/png": "[encoded data removed]",
      "text/plain": [
       "<Figure size 432x288 with 1 Axes>"
      ]
     },
     "metadata": {
      "needs_background": "light"
     },
     "output_type": "display_data"
    }
   ],
   "source": [
    "sns.regplot(x='Item_Visibility',y=label_col,data=train_test[:ntrain])"
   ]
  },
  {
   "cell_type": "code",
   "execution_count": 598,
   "metadata": {},
   "outputs": [
    {
     "data": {
      "text/plain": [
       "521     0.191440\n",
       "854     0.195679\n",
       "1805    0.198856\n",
       "2586    0.192577\n",
       "2677    0.195679\n",
       "2855    0.211315\n",
       "3474    0.199054\n",
       "4382    0.190825\n",
       "4674    0.191354\n",
       "5031    0.191354\n",
       "5150    0.198975\n",
       "5734    0.195575\n",
       "6674    0.199054\n",
       "7388    0.192273\n",
       "8273    0.194127\n",
       "Name: Item_Visibility, dtype: float64"
      ]
     },
     "execution_count": 598,
     "metadata": {},
     "output_type": "execute_result"
    }
   ],
   "source": [
    "train_test[:ntrain].loc[train_test['Item_Visibility']>0.19,'Item_Visibility']"
   ]
  },
  {
   "cell_type": "code",
   "execution_count": 599,
   "metadata": {},
   "outputs": [],
   "source": [
    "ouliers_items=train_test[:ntrain].loc[train_test['Item_Visibility']>0.19,'Item_Identifier']\n",
    "#.value_counts()"
   ]
  },
  {
   "cell_type": "code",
   "execution_count": 600,
   "metadata": {},
   "outputs": [],
   "source": [
    "newItemVisiMap=dict(train_test[:ntrain][train_test[:ntrain]['Item_Identifier'].isin(ouliers_items)].groupby('Item_Identifier')['Item_Visibility'].mean().round(5))"
   ]
  },
  {
   "cell_type": "code",
   "execution_count": 601,
   "metadata": {},
   "outputs": [
    {
     "data": {
      "text/plain": [
       "Int64Index([ 521,  854, 1805, 2586, 2677, 2855, 3474, 4382, 4674, 5031, 5150,\n",
       "            5734, 6674, 7388, 8273],\n",
       "           dtype='int64')"
      ]
     },
     "execution_count": 601,
     "metadata": {},
     "output_type": "execute_result"
    }
   ],
   "source": [
    "ouliers_items_idx=train_test[:ntrain].loc[train_test['Item_Visibility']>0.19,'Item_Identifier'].index\n",
    "ouliers_items_idx"
   ]
  },
  {
   "cell_type": "code",
   "execution_count": 602,
   "metadata": {},
   "outputs": [],
   "source": [
    "train_test.loc[ouliers_items_idx,'Item_Visibility']=train_test.loc[ouliers_items_idx]['Item_Identifier'].apply(lambda x:newItemVisiMap[x])"
   ]
  },
  {
   "cell_type": "code",
   "execution_count": 603,
   "metadata": {},
   "outputs": [
    {
     "data": {
      "text/plain": [
       "<AxesSubplot:xlabel='Item_Visibility', ylabel='Item_Outlet_Sales'>"
      ]
     },
     "execution_count": 603,
     "metadata": {},
     "output_type": "execute_result"
    },
    {
     "data": {
      "image/png": "[encoded data removed]",
      "text/plain": [
       "<Figure size 432x288 with 1 Axes>"
      ]
     },
     "metadata": {
      "needs_background": "light"
     },
     "output_type": "display_data"
    }
   ],
   "source": [
    "sns.regplot(x='Item_Visibility',y=label_col,data=train_test[:ntrain])   #perfect"
   ]
  },
  {
   "cell_type": "markdown",
   "metadata": {},
   "source": [
    "# Feature engineering"
   ]
  },
  {
   "cell_type": "code",
   "execution_count": 666,
   "metadata": {},
   "outputs": [],
   "source": [
    "train_test['Item_MRP_+_Visi']=train_test['Item_MRP'] + train_test['Item_Visibility']\n",
    "train_test['Item_MRP_X_Visi']=train_test['Item_MRP'] * train_test['Item_Visibility']"
   ]
  },
  {
   "cell_type": "code",
   "execution_count": 607,
   "metadata": {},
   "outputs": [],
   "source": [
    "train_test['Outlet_Age']= train_test['Outlet_Establishment_Year'] - (train_test['Outlet_Establishment_Year'].min()-1)"
   ]
  },
  {
   "cell_type": "code",
   "execution_count": 608,
   "metadata": {},
   "outputs": [],
   "source": [
    "train_test['Fat_Con_+_Weight']=train_test['Item_Fat_Content']+train_test['Item_Weight']\n",
    "train_test['Fat_Con_X_Weight']=train_test['Item_Fat_Content']*train_test['Item_Weight']"
   ]
  },
  {
   "cell_type": "code",
   "execution_count": 609,
   "metadata": {},
   "outputs": [],
   "source": [
    "train['Item_Category'] = train['Item_Identifier'].apply(lambda x: x[0:2]).map({'FD':'Food',\n",
    "                                                              'NC':'Non-Consumable',\n",
    "                                                              'DR':'Drinks'})\n",
    "test['Item_Category'] = test['Item_Identifier'].apply(lambda x: x[0:2]).map({'FD':'Food',\n",
    "                                                              'NC':'Non-Consumable',\n",
    "                                                              'DR':'Drinks'})\n",
    "train_test['Item_Category'] = train_test['Item_Identifier'].apply(lambda x: x[0:2]).map({'FD':'Food',\n",
    "                                                              'NC':'Non-Consumable',\n",
    "                                                              'DR':'Drinks'})"
   ]
  },
  {
   "cell_type": "code",
   "execution_count": 610,
   "metadata": {},
   "outputs": [],
   "source": [
    "Outlet_cols=[label_col,'Item_MRP','Item_Visibility','Item_Weight']\n",
    "#df=train_test[:ntrain][Outlet_cols]\n",
    "train_test['Total_Points']=df['Item_MRP']*df['Item_Visibility']*df['Item_Weight']"
   ]
  },
  {
   "cell_type": "code",
   "execution_count": 611,
   "metadata": {},
   "outputs": [
    {
     "data": {
      "text/plain": [
       "Outlet_Type\n",
       "Grocery Store        0.104197\n",
       "Supermarket Type1    0.059873\n",
       "Supermarket Type2    0.058417\n",
       "Supermarket Type3    0.062934\n",
       "Name: Item_Visibility, dtype: float64"
      ]
     },
     "execution_count": 611,
     "metadata": {},
     "output_type": "execute_result"
    }
   ],
   "source": [
    "test.groupby('Outlet_Type')['Item_Visibility'].mean()"
   ]
  },
  {
   "cell_type": "code",
   "execution_count": 612,
   "metadata": {},
   "outputs": [
    {
     "data": {
      "text/plain": [
       "Outlet_Identifier\n",
       "OUT010    0.102661\n",
       "OUT013    0.060669\n",
       "OUT017    0.060790\n",
       "OUT018    0.058417\n",
       "OUT019    0.105811\n",
       "OUT027    0.062934\n",
       "OUT035    0.060170\n",
       "OUT045    0.061557\n",
       "OUT046    0.059764\n",
       "OUT049    0.056292\n",
       "Name: Item_Visibility, dtype: float64"
      ]
     },
     "execution_count": 612,
     "metadata": {},
     "output_type": "execute_result"
    }
   ],
   "source": [
    "test.groupby('Outlet_Identifier')['Item_Visibility'].mean()"
   ]
  },
  {
   "cell_type": "code",
   "execution_count": 613,
   "metadata": {},
   "outputs": [],
   "source": [
    "order=train_test.groupby('Outlet_Location_Type')['Item_Visibility'].mean().sort_values(ascending=False).index\n",
    "map1=dict([i for i in zip(order,range(1,len(order)+1))]) \n",
    "map1=dict(train_test.groupby('Outlet_Location_Type')['Item_Visibility'].mean())\n",
    "train_test['Outlet_location_type_wiseVisibility']=train_test['Outlet_Location_Type'].apply(lambda x : map1[x])"
   ]
  },
  {
   "cell_type": "code",
   "execution_count": 614,
   "metadata": {},
   "outputs": [
    {
     "data": {
      "text/plain": [
       "{'Tier 1': 0.0704798335763818,\n",
       " 'Tier 2': 0.06310753068670548,\n",
       " 'Tier 3': 0.06817226267633882}"
      ]
     },
     "execution_count": 614,
     "metadata": {},
     "output_type": "execute_result"
    }
   ],
   "source": [
    "#map1=dict(train_test.groupby('Outlet_Location_Type')['Item_Visibility'].mean())\n",
    "map1"
   ]
  },
  {
   "cell_type": "code",
   "execution_count": 522,
   "metadata": {},
   "outputs": [],
   "source": [
    "#map1"
   ]
  },
  {
   "cell_type": "code",
   "execution_count": 428,
   "metadata": {},
   "outputs": [],
   "source": [
    "#train_test['Outlet_location_type_wiseVisibility']=train_test['Outlet_Location_Type'].map(map1)"
   ]
  },
  {
   "cell_type": "code",
   "execution_count": 615,
   "metadata": {},
   "outputs": [],
   "source": [
    "order=train_test.groupby('Outlet_Identifier')['Item_Visibility'].mean().sort_values(ascending=True).index\n",
    "map1=dict([i for i in zip(order,range(1,len(order)+1))]) \n",
    "map1=dict(train_test.groupby('Outlet_Identifier')['Item_Visibility'].mean())\n",
    "train_test['Outlet_Identifier_wiseVisibility']=train_test['Outlet_Identifier'].apply(lambda x : map1[x])"
   ]
  },
  {
   "cell_type": "code",
   "execution_count": 616,
   "metadata": {},
   "outputs": [],
   "source": [
    "order=train_test.groupby('Outlet_Type')['Item_Visibility'].mean().sort_values(ascending=True).index\n",
    "map1=dict([i for i in zip(order,range(1,len(order)+1))]) \n",
    "map1=dict(train_test.groupby('Outlet_Type')['Item_Visibility'].mean())\n",
    "train_test['Outlet_Type_wiseVisibility']=train_test['Outlet_Type'].apply(lambda x : map1[x])"
   ]
  },
  {
   "cell_type": "code",
   "execution_count": 617,
   "metadata": {},
   "outputs": [],
   "source": [
    "order=train.groupby(['Outlet_Identifier'])['Item_Outlet_Sales'].mean().sort_values(ascending=True).index\n",
    "map1=dict([i for i in zip(order,range(1,len(order)+1))])\n",
    "map1=dict(train_test.groupby('Outlet_Identifier')['Item_Visibility'].mean())\n",
    "train_test['Outlet_Ranking']=train_test['Outlet_Identifier'].apply(lambda x : map1[x])"
   ]
  },
  {
   "cell_type": "code",
   "execution_count": 619,
   "metadata": {},
   "outputs": [],
   "source": [
    "train_test['Total_Points']=train_test['Item_MRP']*train_test['Item_Visibility']*train_test['Item_Weight']\n",
    "train_test['Item_MRP_+_Weight']=train_test['Item_MRP'] + train_test['Item_Weight']\n",
    "train_test['Item_MRP_+_Visi']=train_test['Item_MRP'] + train_test['Item_Visibility']"
   ]
  },
  {
   "cell_type": "code",
   "execution_count": 620,
   "metadata": {},
   "outputs": [],
   "source": [
    "train_test['CPO']=train_test['Item_MRP']/train_test['Outlet_Size']"
   ]
  },
  {
   "cell_type": "markdown",
   "metadata": {},
   "source": [
    "### Making Dummies"
   ]
  },
  {
   "cell_type": "code",
   "execution_count": 622,
   "metadata": {},
   "outputs": [],
   "source": [
    "#dummies\n",
    "data=train_test.copy()"
   ]
  },
  {
   "cell_type": "code",
   "execution_count": 623,
   "metadata": {},
   "outputs": [],
   "source": [
    "data.drop(['Item_Identifier','Outlet_Identifier','Outlet_Establishment_Year'],1,inplace=True)"
   ]
  },
  {
   "cell_type": "code",
   "execution_count": 624,
   "metadata": {},
   "outputs": [],
   "source": [
    "def one_hot(df, cols):\n",
    "    for each in cols:\n",
    "        dummies = pd.get_dummies(df[each], prefix=each, drop_first=False)\n",
    "        df = pd.concat([df, dummies], axis=1)\n",
    "    return df"
   ]
  },
  {
   "cell_type": "code",
   "execution_count": 625,
   "metadata": {},
   "outputs": [],
   "source": [
    "#data \n",
    "c=['Item_Type' , 'Outlet_Location_Type' , 'Outlet_Type', 'Item_Category']"
   ]
  },
  {
   "cell_type": "code",
   "execution_count": 626,
   "metadata": {},
   "outputs": [],
   "source": [
    "data1=one_hot(data,c)"
   ]
  },
  {
   "cell_type": "code",
   "execution_count": 627,
   "metadata": {},
   "outputs": [],
   "source": [
    "data1.drop(c,1,inplace=True)"
   ]
  },
  {
   "cell_type": "code",
   "execution_count": 628,
   "metadata": {},
   "outputs": [
    {
     "data": {
      "text/plain": [
       "Index(['Item_Weight', 'Item_Fat_Content', 'Item_Visibility', 'Item_MRP',\n",
       "       'Outlet_Size', 'Item_Outlet_Sales', 'Item_visibility_sqrt',\n",
       "       'MRP_lognorm', 'Outlet_Age', 'Fat_Con_+_Weight', 'Fat_Con_X_Weight',\n",
       "       'Total_Points', 'Outlet_location_type_wiseVisibility',\n",
       "       'Outlet_Identifier_wiseVisibility', 'Outlet_Type_wiseVisibility',\n",
       "       'Outlet_Ranking', 'Item_MRP_+_Weight', 'Item_MRP_+_Visi', 'MrpPerUnit',\n",
       "       'Item_Type_Baking Goods', 'Item_Type_Breads', 'Item_Type_Breakfast',\n",
       "       'Item_Type_Canned', 'Item_Type_Dairy', 'Item_Type_Frozen Foods',\n",
       "       'Item_Type_Fruits and Vegetables', 'Item_Type_Hard Drinks',\n",
       "       'Item_Type_Health and Hygiene', 'Item_Type_Household', 'Item_Type_Meat',\n",
       "       'Item_Type_Others', 'Item_Type_Seafood', 'Item_Type_Snack Foods',\n",
       "       'Item_Type_Soft Drinks', 'Item_Type_Starchy Foods',\n",
       "       'Outlet_Location_Type_Tier 1', 'Outlet_Location_Type_Tier 2',\n",
       "       'Outlet_Location_Type_Tier 3', 'Outlet_Type_Grocery Store',\n",
       "       'Outlet_Type_Supermarket Type1', 'Outlet_Type_Supermarket Type2',\n",
       "       'Outlet_Type_Supermarket Type3', 'Item_Category_Drinks',\n",
       "       'Item_Category_Food', 'Item_Category_Non-Consumable'],\n",
       "      dtype='object')"
      ]
     },
     "execution_count": 628,
     "metadata": {},
     "output_type": "execute_result"
    }
   ],
   "source": [
    "data1.columns\n",
    "features=['Item_Weight', 'Item_Fat_Content', 'Item_Visibility', 'Item_MRP',\n",
    "       'Outlet_Size','Outlet_Age',\n",
    "       'Outlet_location_type_wiseVisibility',\n",
    "       'Outlet_Identifier_wiseVisibility','Item_visibility_sqrt']"
   ]
  },
  {
   "cell_type": "code",
   "execution_count": 629,
   "metadata": {},
   "outputs": [],
   "source": [
    "def add_feature_df(df,features):\n",
    "    # count +ve and -ve\n",
    "    df['count+'] = np.array(df>0).sum(axis=1)\n",
    "    df['count-'] = np.array(df<0).sum(axis=1)\n",
    "    #sum\n",
    "    #df['sum_outside'] = df.sum(axis=1)\n",
    "        \n",
    "    for feature in features:\n",
    "        #normalize\n",
    "        df[feature+'_norm'] = (df[feature] - df[feature].mean())/df[feature].std()*(df[feature] - df[feature].mean())/df[feature].std()\n",
    "        #percentage change row wise\n",
    "        #df[feature+\"_pct\"] = df[feature].pct_change() # didnt give boost\n",
    "        #diff change row wise\n",
    "        #df[feature+\"_diff\"] = df[feature].diff() # didnt give boost\n",
    "        # Square\n",
    "        df[feature+'^2'] = df[feature] * df[feature]\n",
    "        # Cube\n",
    "        df[feature+'^3'] = df[feature] * df[feature] * df[feature]\n",
    "        # 4th power\n",
    "        #df[feature+'^4'] = df[feature] * df[feature] * df[feature] * df[feature]\n",
    "        # Cumulative percentile (not normalized)\n",
    "        df[feature+'_cp'] = rankdata(df[feature]).astype('float32')\n",
    "        # Cumulative normal percentile, probabilites\n",
    "        df[feature+'_cnp'] = norm.cdf(df[feature]).astype('float32')*norm.cdf(df[feature]).astype('float32')\n",
    "        # sqrt\n",
    "        df[feature+'_sqrt'] = np.sqrt(df[feature])\n",
    "        #binning\n",
    "        #bins = np.nanpercentile(df[feature], range(0,101,10))\n",
    "        #df[feature+\"_binned\"] = pd.cut(df[feature],bins=bins)\n",
    "        #rounding\n",
    "        #df[feature+'_r2'] = np.round(df[feature], 2)\n",
    "        #rounding\n",
    "        #df['r1_'+feature] = np.round(df[feature], 1)\n",
    "        #exp\n",
    "        df['exp_'+feature] = np.exp(df[feature])\n",
    "        #exp and feature\n",
    "        df['xintoexp_'+feature] = np.exp(df[feature])*df[feature]\n",
    "        #sum\n",
    "        df['sum_inside'] = df[[feature]].sum(axis=1)\n",
    "        #max\n",
    "        df['max'] = df[[feature]].max(axis=1)\n",
    "        #min\n",
    "        df['min'] = df[[feature]].min(axis=1)\n",
    "        #max\n",
    "        #df['std'] = df[[feature]].std(axis=1)\n",
    "        #skew\n",
    "        #df['skew'] = df[[feature]].skew(axis=1)*df[[feature]].skew(axis=1)\n",
    "        #kurt\n",
    "        #df['kurt'] = df[[feature]].kurtosis(axis=1)\n",
    "        #median\n",
    "        df['med'] = df[[feature]].median(axis=1)\n",
    "        #tanh\n",
    "        df['tanh_'+feature] = np.tanh(df[feature])\n",
    "        \n",
    "    return df"
   ]
  },
  {
   "cell_type": "code",
   "execution_count": 630,
   "metadata": {},
   "outputs": [],
   "source": [
    "data2=add_feature_df(data1,features)"
   ]
  },
  {
   "cell_type": "code",
   "execution_count": 631,
   "metadata": {},
   "outputs": [],
   "source": [
    "#data2\n",
    "data2=data2.round(3)"
   ]
  },
  {
   "cell_type": "code",
   "execution_count": 540,
   "metadata": {},
   "outputs": [],
   "source": [
    "#data2.to_excel(\"check.xlsx\")"
   ]
  },
  {
   "cell_type": "code",
   "execution_count": 632,
   "metadata": {},
   "outputs": [
    {
     "data": {
      "text/html": [
       "<div>\n",
       "<style scoped>\n",
       "    .dataframe tbody tr th:only-of-type {\n",
       "        vertical-align: middle;\n",
       "    }\n",
       "\n",
       "    .dataframe tbody tr th {\n",
       "        vertical-align: top;\n",
       "    }\n",
       "\n",
       "    .dataframe thead th {\n",
       "        text-align: right;\n",
       "    }\n",
       "</style>\n",
       "<table border=\"1\" class=\"dataframe\">\n",
       "  <thead>\n",
       "    <tr style=\"text-align: right;\">\n",
       "      <th></th>\n",
       "      <th>0</th>\n",
       "    </tr>\n",
       "  </thead>\n",
       "  <tbody>\n",
       "    <tr>\n",
       "      <th>Item_Outlet_Sales</th>\n",
       "      <td>5681</td>\n",
       "    </tr>\n",
       "  </tbody>\n",
       "</table>\n",
       "</div>"
      ],
      "text/plain": [
       "                      0\n",
       "Item_Outlet_Sales  5681"
      ]
     },
     "execution_count": 632,
     "metadata": {},
     "output_type": "execute_result"
    }
   ],
   "source": [
    "# any nulls?\n",
    "pd.DataFrame(data2.isnull().sum())[pd.DataFrame(data2.isnull().sum())[0]>0]"
   ]
  },
  {
   "cell_type": "code",
   "execution_count": 542,
   "metadata": {},
   "outputs": [],
   "source": [
    "#data2"
   ]
  },
  {
   "cell_type": "code",
   "execution_count": 633,
   "metadata": {},
   "outputs": [],
   "source": [
    "#test+train main\n",
    "xtrain=data2[:ntrain].drop(label_col,1)\n",
    "ytrain=data2[:ntrain][label_col]\n",
    "xtest=data2[ntrain:].drop(label_col,1)\n",
    "ytest=data2[ntrain:][label_col]"
   ]
  },
  {
   "cell_type": "code",
   "execution_count": 634,
   "metadata": {},
   "outputs": [],
   "source": [
    "# scalling "
   ]
  },
  {
   "cell_type": "code",
   "execution_count": 635,
   "metadata": {},
   "outputs": [],
   "source": [
    "from sklearn.preprocessing import MinMaxScaler\n",
    "scaler1 = MinMaxScaler()\n",
    "scaler2=MinMaxScaler()\n",
    "s1=scaler1.fit(data2.drop(label_col,1))\n",
    "#s2=scaler2.fit(pd.DataFrame(ytrain))"
   ]
  },
  {
   "cell_type": "code",
   "execution_count": 636,
   "metadata": {},
   "outputs": [],
   "source": [
    "#scaler.inverse_transform(scaled_data)\n",
    "\n",
    "xtrain=s1.transform(xtrain)\n",
    "xtest=s1.transform(xtest)\n",
    "#ytrain=s2.transform(pd.DataFrame(ytrain))\n",
    "#ytest=s2.transform(pd.DataFrame(ytest))"
   ]
  },
  {
   "cell_type": "code",
   "execution_count": 637,
   "metadata": {},
   "outputs": [],
   "source": [
    "#Validating #spliting train test\n",
    "from sklearn.model_selection import train_test_split\n",
    "X_train, X_test, y_train, y_test = train_test_split(xtrain,ytrain, test_size=0.25, random_state=55)"
   ]
  },
  {
   "cell_type": "code",
   "execution_count": 638,
   "metadata": {},
   "outputs": [
    {
     "data": {
      "text/plain": [
       "(6392, 131)"
      ]
     },
     "execution_count": 638,
     "metadata": {},
     "output_type": "execute_result"
    }
   ],
   "source": [
    "X_train.shape"
   ]
  },
  {
   "cell_type": "code",
   "execution_count": 549,
   "metadata": {},
   "outputs": [],
   "source": [
    "#s2.inverse_transform(y_test) , s2.inverse_transform(y_pred)"
   ]
  },
  {
   "cell_type": "code",
   "execution_count": 639,
   "metadata": {},
   "outputs": [
    {
     "data": {
      "text/plain": [
       "LinearRegression()"
      ]
     },
     "execution_count": 639,
     "metadata": {},
     "output_type": "execute_result"
    },
    {
     "name": "stdout",
     "output_type": "stream",
     "text": [
      "[2852.24902344 2021.16894531 3990.90332031 ... 1107.00683594  566.90527344\n",
      " 1493.88574219]\n",
      "RMSE : 1147.5202028991644\n",
      "Variance score: 0.56\n"
     ]
    }
   ],
   "source": [
    "from sklearn.linear_model import LinearRegression\n",
    "from sklearn.metrics import mean_squared_error\n",
    "from sklearn.metrics import r2_score\n",
    "\n",
    "model = LinearRegression()\n",
    "model.fit(X_train, y_train)\n",
    "\n",
    "# predicting the  test set results\n",
    "y_pred = model.predict(X_test)\n",
    "print(y_pred)\n",
    "\n",
    "# finding the mean squared error and variance\n",
    "mse = mean_squared_error(y_test, y_pred)\n",
    "print('RMSE :', np.sqrt(mse))\n",
    "print('Variance score: %.2f' % r2_score(y_test, y_pred))"
   ]
  },
  {
   "cell_type": "code",
   "execution_count": 257,
   "metadata": {},
   "outputs": [
    {
     "data": {
      "text/plain": [
       "ElasticNet(alpha=0.01)"
      ]
     },
     "execution_count": 257,
     "metadata": {},
     "output_type": "execute_result"
    },
    {
     "name": "stdout",
     "output_type": "stream",
     "text": [
      "[3029.56381537 2057.35577316 3938.99341695 ... 1218.34277989  838.19011079\n",
      " 1332.44586403]\n",
      "RMSE : 1152.9222025896788\n",
      "Variance score: 0.56\n"
     ]
    }
   ],
   "source": [
    "model3=Ridge(alpha=.01) \n",
    "model4=Lasso(alpha=.01)\n",
    "model5=ElasticNet(alpha=0.01) \n",
    "#from sklearn.linear_model import LinearRegression\n",
    "from sklearn.metrics import mean_squared_error\n",
    "from sklearn.metrics import r2_score\n",
    "\n",
    "#model = LinearRegression()\n",
    "model5.fit(X_train, y_train)\n",
    "\n",
    "# predicting the  test set results\n",
    "y_pred = model5.predict(X_test)\n",
    "print(y_pred)\n",
    "\n",
    "# finding the mean squared error and variance\n",
    "mse = mean_squared_error(y_test, y_pred)\n",
    "print('RMSE :', np.sqrt(mse))\n",
    "print('Variance score: %.2f' % r2_score(y_test, y_pred))"
   ]
  },
  {
   "cell_type": "code",
   "execution_count": 258,
   "metadata": {},
   "outputs": [
    {
     "data": {
      "text/plain": [
       "array([ -828.43134262,  -909.75576539,  -931.86376375,  -863.97218594,\n",
       "        -656.64485286,  -657.78565811, -1059.79124431,  -751.8038708 ,\n",
       "        -751.92827675,  -714.1372591 ,  -597.1616591 ,  -865.79074044,\n",
       "        -152.08009759, -1030.19972799,   -49.18540577,  -432.51068684,\n",
       "        -155.41137604,  -861.19168059,  -421.5142673 , -1057.142247  ,\n",
       "        -236.2451663 ,  -913.55476135,   -83.78018832,  -327.91689243,\n",
       "        -202.88584681,  -162.50350151,  -827.35979148, -1043.86452693,\n",
       "        -541.49417255,  -316.27137753,  -946.23413373,   -95.51551973,\n",
       "        -395.45970286,  -901.42302591,  -832.45972967,  -196.69437292,\n",
       "        -335.25455064, -1122.26656474, -1006.9665213 ,  -123.53646957,\n",
       "        -594.4898451 ,  -918.5918128 ,  -808.45017734,  -733.55943513,\n",
       "        -739.45877148,  -509.10883943,  -848.5149985 ,  -874.80573605,\n",
       "         -77.7597072 ,  -448.9145459 ,  -284.96623107, -1035.47833474,\n",
       "         -74.52045118,  -361.96788939,  -956.59744612, -1135.05145587,\n",
       "        -963.04536844,  -314.61793133,  -240.57242998,   -32.55413728,\n",
       "        -263.40037473, -1129.11107662,   -94.70035844,  -811.09279061,\n",
       "        -309.5693382 ,  -761.39634036,  -170.82739465,  -300.46936319,\n",
       "        -411.80451358, -1200.03952285,  -808.32946203, -1131.45383139,\n",
       "        -461.13801322,   -71.88952215,  -135.51510275,  -584.40047832,\n",
       "        -270.09534089,    -7.1564879 ,  -400.90970932,   -46.83973168,\n",
       "         -85.48077456,   -26.61684511,  -150.42822369,  -913.50949685,\n",
       "         -79.7569686 , -1094.34172282,  -321.74600451,  -539.07517605,\n",
       "        -159.55430819, -1119.70909101,  -121.48426055, -1106.95770575,\n",
       "       -1025.84887482])"
      ]
     },
     "execution_count": 258,
     "metadata": {},
     "output_type": "execute_result"
    }
   ],
   "source": [
    "y_pred[y_pred<0]"
   ]
  },
  {
   "cell_type": "code",
   "execution_count": 253,
   "metadata": {},
   "outputs": [],
   "source": [
    "#X_train.round(1)"
   ]
  },
  {
   "cell_type": "code",
   "execution_count": 259,
   "metadata": {},
   "outputs": [
    {
     "data": {
      "text/plain": [
       "AdaBoostRegressor(n_estimators=100)"
      ]
     },
     "execution_count": 259,
     "metadata": {},
     "output_type": "execute_result"
    },
    {
     "name": "stdout",
     "output_type": "stream",
     "text": [
      "RMSE : 1174.7842334576421\n"
     ]
    }
   ],
   "source": [
    "from sklearn.ensemble import AdaBoostRegressor\n",
    "\n",
    "model= AdaBoostRegressor(n_estimators = 100)\n",
    "model.fit(X_train, y_train)\n",
    "\n",
    "# predicting the test set results\n",
    "y_pred = model.predict(X_test)\n",
    "\n",
    "# RMSE\n",
    "mse = mean_squared_error(y_test, y_pred)\n",
    "print(\"RMSE :\", np.sqrt(mse))"
   ]
  },
  {
   "cell_type": "code",
   "execution_count": 640,
   "metadata": {},
   "outputs": [
    {
     "data": {
      "text/plain": [
       "GradientBoostingRegressor()"
      ]
     },
     "execution_count": 640,
     "metadata": {},
     "output_type": "execute_result"
    },
    {
     "name": "stdout",
     "output_type": "stream",
     "text": [
      "[3126.46707483 2019.13314026 3482.09820541 ... 1288.27880151  689.62333724\n",
      " 1320.94043221]\n",
      "RMSE : 1112.8525617180214\n"
     ]
    }
   ],
   "source": [
    "from sklearn.ensemble import GradientBoostingRegressor\n",
    "\n",
    "model = GradientBoostingRegressor(n_estimators = 100,max_depth=3)\n",
    "model.fit(X_train, y_train)\n",
    "\n",
    "# predicting the test set results\n",
    "y_pred = model.predict(X_test)\n",
    "print(y_pred)\n",
    "\n",
    "# Calculating the root mean squared error\n",
    "print(\"RMSE :\", np.sqrt(((y_test - y_pred)**2).sum()/len(y_test)))"
   ]
  },
  {
   "cell_type": "code",
   "execution_count": 641,
   "metadata": {},
   "outputs": [
    {
     "data": {
      "text/plain": [
       "XGBRegressor(base_score=0.5, booster='gbtree', colsample_bylevel=1,\n",
       "             colsample_bynode=1, colsample_bytree=1, gamma=0.05, gpu_id=-1,\n",
       "             importance_type='gain', interaction_constraints='',\n",
       "             learning_rate=0.01, max_delta_step=0, max_depth=3,\n",
       "             min_child_weight=1, missing=nan, monotone_constraints='()',\n",
       "             n_estimators=600, n_jobs=8, num_parallel_tree=1, random_state=123,\n",
       "             reg_alpha=0.1, reg_lambda=0.8, scale_pos_weight=1, subsample=0.4,\n",
       "             tree_method='exact', validate_parameters=1, verbosity=None)"
      ]
     },
     "execution_count": 641,
     "metadata": {},
     "output_type": "execute_result"
    },
    {
     "name": "stdout",
     "output_type": "stream",
     "text": [
      "[3048.2563 2065.4336 3610.709  ... 1266.4327  754.5792 1270.5304]\n",
      "RMSE : 1108.4827572481545\n"
     ]
    }
   ],
   "source": [
    "model=XGBRegressor(random_state=123,gamma= 0.05 ,learning_rate=0.01,max_depth=3,min_child_weight=1,\n",
    "                      n_estimators=600,subsample=0.40,reg_lambda=0.8,reg_alpha=0.1)\n",
    "\n",
    "model.fit(X_train, y_train)\n",
    "\n",
    "# predicting the test set results\n",
    "y_pred = model.predict(X_test)\n",
    "print(y_pred)\n",
    "\n",
    "# Calculating the root mean squared error\n",
    "print(\"RMSE :\", np.sqrt(((y_test - y_pred)**2).sum()/len(y_test)))"
   ]
  },
  {
   "cell_type": "code",
   "execution_count": 642,
   "metadata": {},
   "outputs": [
    {
     "data": {
      "text/plain": [
       "array([], dtype=float32)"
      ]
     },
     "execution_count": 642,
     "metadata": {},
     "output_type": "execute_result"
    }
   ],
   "source": [
    "y_pred[y_pred<0]"
   ]
  },
  {
   "cell_type": "code",
   "execution_count": 369,
   "metadata": {},
   "outputs": [
    {
     "data": {
      "text/plain": [
       "RandomForestRegressor(n_estimators=1000, n_jobs=-1)"
      ]
     },
     "execution_count": 369,
     "metadata": {},
     "output_type": "execute_result"
    },
    {
     "name": "stdout",
     "output_type": "stream",
     "text": [
      "[3548.106806 2193.679221 3406.174959 ... 1463.482304  730.82141\n",
      " 1368.943366]\n",
      "RMSE : 1147.0689724387832\n",
      "Variance score: 0.56\n",
      "Result : 0.941858044718709\n"
     ]
    }
   ],
   "source": [
    "from sklearn.ensemble import RandomForestRegressor\n",
    "\n",
    "model = RandomForestRegressor(n_estimators = 1000 , n_jobs = -1)\n",
    "model.fit(X_train, y_train)\n",
    "\n",
    "# predicting the  test set results\n",
    "y_pred = model.predict(X_test)\n",
    "print(y_pred)\n",
    "\n",
    "# finding the mean squared error and variance\n",
    "mse = mean_squared_error(y_test, y_pred)\n",
    "print(\"RMSE :\",np.sqrt(mse))\n",
    "print('Variance score: %.2f' % r2_score(y_test, y_pred))\n",
    "\n",
    "print(\"Result :\",model.score(X_train, y_train))"
   ]
  },
  {
   "cell_type": "code",
   "execution_count": 263,
   "metadata": {},
   "outputs": [
    {
     "data": {
      "text/plain": [
       "array([], dtype=float64)"
      ]
     },
     "execution_count": 263,
     "metadata": {},
     "output_type": "execute_result"
    }
   ],
   "source": [
    "y_pred[y_pred<0]"
   ]
  },
  {
   "cell_type": "code",
   "execution_count": 643,
   "metadata": {},
   "outputs": [
    {
     "data": {
      "text/plain": [
       "SVR()"
      ]
     },
     "execution_count": 643,
     "metadata": {},
     "output_type": "execute_result"
    },
    {
     "name": "stdout",
     "output_type": "stream",
     "text": [
      "RMSE : 1715.8293489760053\n"
     ]
    }
   ],
   "source": [
    "from sklearn.svm import SVR\n",
    "\n",
    "model = SVR()\n",
    "model.fit(X_train, y_train)\n",
    "\n",
    "# predicting the x test results\n",
    "y_pred = model.predict(X_test)\n",
    "\n",
    "# Calculating the RMSE Score\n",
    "mse = mean_squared_error(y_test, y_pred)\n",
    "print(\"RMSE :\", np.sqrt(mse))"
   ]
  },
  {
   "cell_type": "code",
   "execution_count": 644,
   "metadata": {},
   "outputs": [
    {
     "data": {
      "text/plain": [
       "GradientBoostingRegressor()"
      ]
     },
     "execution_count": 644,
     "metadata": {},
     "output_type": "execute_result"
    },
    {
     "name": "stdout",
     "output_type": "stream",
     "text": [
      "[1581.67288884 1431.06307029  631.93511959 ... 1833.35596635 3531.22768979\n",
      " 1313.26015429]\n"
     ]
    }
   ],
   "source": [
    "#best modelfrom sklearn.ensemble import GradientBoostingRegressor\n",
    "\n",
    "model = GradientBoostingRegressor(max_depth=3)\n",
    "model.fit(xtrain, ytrain)\n",
    "\n",
    "# predicting the test set results\n",
    "y_pred = model.predict(xtest)\n",
    "print(y_pred)\n",
    "\n",
    "# Calculating the root mean squared error\n",
    "#print(\"RMSE :\", np.sqrt(((y_test - y_pred)**2).sum()/len(y_test)))"
   ]
  },
  {
   "cell_type": "code",
   "execution_count": 187,
   "metadata": {},
   "outputs": [
    {
     "data": {
      "text/plain": [
       "array([-20.43052996,  -3.4919417 ,  -3.4919417 ,  -2.396065  ,\n",
       "       -21.39320955, -72.96371825,  -2.20858526, -24.12932518,\n",
       "        -2.84116252])"
      ]
     },
     "execution_count": 187,
     "metadata": {},
     "output_type": "execute_result"
    }
   ],
   "source": [
    "y_pred[y_pred<0]"
   ]
  },
  {
   "cell_type": "code",
   "execution_count": 181,
   "metadata": {},
   "outputs": [
    {
     "data": {
      "text/plain": [
       "RandomForestRegressor(n_estimators=1000, n_jobs=-1)"
      ]
     },
     "execution_count": 181,
     "metadata": {},
     "output_type": "execute_result"
    },
    {
     "name": "stdout",
     "output_type": "stream",
     "text": [
      "[1698.75707654 1408.51260126  635.41250478 ... 1841.85819013 3615.44345649\n",
      " 1270.37803021]\n"
     ]
    }
   ],
   "source": [
    "from sklearn.ensemble import RandomForestRegressor\n",
    "\n",
    "model = RandomForestRegressor(n_estimators = 1000, n_jobs = -1)\n",
    "model.fit(xtrain, ytrain)\n",
    "\n",
    "# predicting the  test set results\n",
    "y_pred1 = model.predict(xtest)\n",
    "print(y_pred)\n",
    "\n",
    "# finding the mean squared error and variance\n",
    "#mse = mean_squared_error(y_test, y_pred)\n",
    "#print(\"RMSE :\",np.sqrt(mse))\n",
    "#print('Variance score: %.2f' % r2_score(y_test, y_pred))\n",
    "\n",
    "#print(\"Result :\",model.score(X_train, y_train))"
   ]
  },
  {
   "cell_type": "code",
   "execution_count": 182,
   "metadata": {},
   "outputs": [
    {
     "data": {
      "text/plain": [
       "array([], dtype=float64)"
      ]
     },
     "execution_count": 182,
     "metadata": {},
     "output_type": "execute_result"
    }
   ],
   "source": [
    "y_pred1[y_pred1<0]"
   ]
  },
  {
   "cell_type": "code",
   "execution_count": 645,
   "metadata": {},
   "outputs": [
    {
     "data": {
      "text/plain": [
       "XGBRegressor(base_score=0.5, booster='gbtree', colsample_bylevel=1,\n",
       "             colsample_bynode=1, colsample_bytree=1, gamma=0.04, gpu_id=-1,\n",
       "             importance_type='gain', interaction_constraints='',\n",
       "             learning_rate=0.01, max_delta_step=0, max_depth=3,\n",
       "             min_child_weight=1, missing=nan, monotone_constraints='()',\n",
       "             n_estimators=600, n_jobs=8, num_parallel_tree=1, random_state=555,\n",
       "             reg_alpha=0.1, reg_lambda=0.6, scale_pos_weight=1, subsample=0.3,\n",
       "             tree_method='exact', validate_parameters=1, verbosity=None)"
      ]
     },
     "execution_count": 645,
     "metadata": {},
     "output_type": "execute_result"
    },
    {
     "name": "stdout",
     "output_type": "stream",
     "text": [
      "[1635.2556 1388.318   634.259  ... 1876.7245 3578.6624 1255.8248]\n"
     ]
    }
   ],
   "source": [
    "#1600 , 1155.01\n",
    "model=XGBRegressor(random_state=555,gamma= 0.04 ,learning_rate=0.01,max_depth=3,min_child_weight=1,\n",
    "                      n_estimators=600,subsample=0.30,reg_lambda=0.6,reg_alpha=0.1)\n",
    "\n",
    "model.fit(xtrain, ytrain)\n",
    "\n",
    "# predicting the test set results\n",
    "y_pred = model.predict(xtest)\n",
    "print(y_pred)\n",
    "\n",
    "# Calculating the root mean squared error\n",
    "#print(\"RMSE :\", np.sqrt(((y_test - y_pred)**2).sum()/len(y_test)))"
   ]
  },
  {
   "cell_type": "code",
   "execution_count": null,
   "metadata": {},
   "outputs": [],
   "source": [
    "model=XGBRegressor(random_state=123,gamma= 0.04 ,learning_rate=0.01,max_depth=3,min_child_weight=1,\n",
    "                      n_estimators=600,subsample=0.30,reg_lambda=0.6,reg_alpha=0.1)\n",
    "\n",
    "model.fit(xtrain, ytrain)\n",
    "\n",
    "# predicting the test set results\n",
    "y_pred = model.predict(xtest)\n",
    "print(y_pred)"
   ]
  },
  {
   "cell_type": "code",
   "execution_count": 267,
   "metadata": {},
   "outputs": [
    {
     "data": {
      "text/plain": [
       "array([], dtype=float32)"
      ]
     },
     "execution_count": 267,
     "metadata": {},
     "output_type": "execute_result"
    }
   ],
   "source": [
    "y_pred[y_pred<0]"
   ]
  },
  {
   "cell_type": "code",
   "execution_count": 183,
   "metadata": {},
   "outputs": [
    {
     "name": "stdout",
     "output_type": "stream",
     "text": [
      "[1721.364656 1442.070172  653.059225 ... 1816.938942 4311.741434\n",
      " 1471.923314]\n"
     ]
    }
   ],
   "source": [
    "#best modelfrom sklearn.ensemble import GradientBoostingRegressor\n",
    "\n",
    "#model = GradientBoostingRegressor()\n",
    "#model3=Ridge(alpha=.1) \n",
    "#model4=Lasso(alpha=.1)\n",
    "model = LinearRegression()\n",
    "model5=ElasticNet(alpha=0.01) \n",
    "#model5.fit(xtrain, ytrain)\n",
    "\n",
    "# predicting the test set results\n",
    "#y_pred1 = model5.predict(xtest)\n",
    "print(y_pred1)\n",
    "\n",
    "# Calculating the root mean squared error\n",
    "#print(\"RMSE :\", np.sqrt(((y_test - y_pred)**2).sum()/len(y_test)))"
   ]
  },
  {
   "cell_type": "code",
   "execution_count": 184,
   "metadata": {},
   "outputs": [],
   "source": [
    "#y_pred1[y_pred1<0]"
   ]
  },
  {
   "cell_type": "code",
   "execution_count": 646,
   "metadata": {},
   "outputs": [],
   "source": [
    "sub=pd.read_csv('sample_submission_8RXa3c6.csv')\n",
    "sub['Item_Outlet_Sales']=y_pred\n",
    "#sub['reg']=y_pred1\n",
    "sub.to_csv('sub27.csv')"
   ]
  },
  {
   "cell_type": "code",
   "execution_count": null,
   "metadata": {},
   "outputs": [],
   "source": []
  },
  {
   "cell_type": "code",
   "execution_count": null,
   "metadata": {},
   "outputs": [],
   "source": []
  },
  {
   "cell_type": "code",
   "execution_count": null,
   "metadata": {},
   "outputs": [],
   "source": []
  },
  {
   "cell_type": "code",
   "execution_count": null,
   "metadata": {},
   "outputs": [],
   "source": []
  },
  {
   "cell_type": "code",
   "execution_count": null,
   "metadata": {},
   "outputs": [],
   "source": []
  },
  {
   "cell_type": "code",
   "execution_count": null,
   "metadata": {},
   "outputs": [],
   "source": []
  },
  {
   "cell_type": "code",
   "execution_count": 648,
   "metadata": {},
   "outputs": [],
   "source": [
    "#!pip install tensorflow"
   ]
  },
  {
   "cell_type": "code",
   "execution_count": null,
   "metadata": {},
   "outputs": [],
   "source": [
    "#neural networs\n",
    "import numpy as np\n",
    "\n",
    "x_train = np.asmatrix(x_train)\n",
    "x_test = np.asmatrix(x_test)\n",
    "y_train = np.asmatrix(y_train.T)\n",
    "y_test = np.asmatrix(y_test.T)\n",
    "\n",
    "print(x_train.shape)\n",
    "print(x_test.shape)\n",
    "print(y_train.shape)\n",
    "print(y_test.shape)"
   ]
  },
  {
   "cell_type": "code",
   "execution_count": 649,
   "metadata": {},
   "outputs": [
    {
     "ename": "ModuleNotFoundError",
     "evalue": "No module named 'tensorflow'",
     "output_type": "error",
     "traceback": [
      "\u001b[1;31m---------------------------------------------------------------------------\u001b[0m",
      "\u001b[1;31mModuleNotFoundError\u001b[0m                       Traceback (most recent call last)",
      "\u001b[1;32m<ipython-input-649-1ebda505aed4>\u001b[0m in \u001b[0;36m<module>\u001b[1;34m\u001b[0m\n\u001b[1;32m----> 1\u001b[1;33m \u001b[1;32mimport\u001b[0m \u001b[0mtensorflow\u001b[0m \u001b[1;32mas\u001b[0m \u001b[0mtf\u001b[0m\u001b[1;33m\u001b[0m\u001b[1;33m\u001b[0m\u001b[0m\n\u001b[0m\u001b[0;32m      2\u001b[0m \u001b[1;33m\u001b[0m\u001b[0m\n\u001b[0;32m      3\u001b[0m \u001b[0mD\u001b[0m \u001b[1;33m=\u001b[0m \u001b[0mx_train\u001b[0m\u001b[1;33m.\u001b[0m\u001b[0mshape\u001b[0m\u001b[1;33m[\u001b[0m\u001b[1;36m1\u001b[0m\u001b[1;33m]\u001b[0m\u001b[1;33m\u001b[0m\u001b[1;33m\u001b[0m\u001b[0m\n\u001b[0;32m      4\u001b[0m \u001b[1;33m\u001b[0m\u001b[0m\n\u001b[0;32m      5\u001b[0m \u001b[1;31m# Creating the placeholders for storing the X and Y variables\u001b[0m\u001b[1;33m\u001b[0m\u001b[1;33m\u001b[0m\u001b[1;33m\u001b[0m\u001b[0m\n",
      "\u001b[1;31mModuleNotFoundError\u001b[0m: No module named 'tensorflow'"
     ]
    }
   ],
   "source": [
    "import tensorflow as tf\n",
    "\n",
    "D = x_train.shape[1]\n",
    "\n",
    "# Creating the placeholders for storing the X and Y variables \n",
    "tf_X = tf.placeholder(tf.float32 , [None,D])\n",
    "tf_Y = tf.placeholder(tf.float32 , [None,1])\n",
    "\n",
    "# Layer 1 \n",
    "W1 = tf.Variable(tf.random_normal([D, 20], stddev = 0.01))\n",
    "b1 = tf.Variable(tf.zeros([20]))\n",
    "Layer_1 = tf.nn.relu(tf.matmul(tf_X, W1) + b1)\n",
    "\n",
    "# Layer 2 \n",
    "W2 = tf.Variable(tf.random_normal([20, 15], stddev = 0.01))\n",
    "b2 = tf.Variable(tf.zeros([15]))\n",
    "Layer_2 = tf.nn.relu(tf.matmul(Layer_1, W2) + b2)\n",
    "\n",
    "# Layer 3\n",
    "W3 = tf.Variable(tf.random_normal([15, 10], stddev = 0.01))\n",
    "b3 = tf.Variable(tf.zeros([10]))\n",
    "Layer_3 = tf.nn.relu(tf.matmul(Layer_2, W3) + b3)\n",
    "\n",
    "# Output layer\n",
    "W4 = tf.Variable(tf.random_normal([10, 1] , stddev = 0.01))\n",
    "b4 = tf.Variable(tf.zeros([1]))\n",
    "output = tf.add(tf.matmul(Layer_3, W4) , b4)\n",
    "\n",
    "# Defining our cost function which we have to reduce \n",
    "cost = tf.reduce_mean(tf.square(output - tf_Y))\n",
    "\n",
    "# Defining the function for Gradient Descent \n",
    "train = tf.train.GradientDescentOptimizer(0.0001).minimize(cost)"
   ]
  },
  {
   "cell_type": "code",
   "execution_count": null,
   "metadata": {},
   "outputs": [],
   "source": [
    "\n",
    "with tf.Session() as sess:\n",
    "    \n",
    "    sess.run(tf.global_variables_initializer())\n",
    "    \n",
    "    ctrain = []\n",
    "    ctest = []\n",
    "    for i in range(10000):\n",
    "        sess.run(train,feed_dict ={tf_X :x_train ,tf_Y :y_train})\n",
    "\n",
    "        ctrain.append(sess.run(cost, feed_dict={tf_X :x_train, tf_Y :y_train}))\n",
    "        ctest.append(sess.run(cost, feed_dict={tf_X :x_test, tf_Y :y_test}))\n",
    "        print('Epoch :',i,'Cost :',ctrain[i])\n",
    "        \n",
    "\n",
    "# visualization of training data\n",
    "plt.plot(ctrain)\n",
    "plt.title(\" Training Costs vs Epochs \")\n",
    "plt.xlabel(\" Epochs \")\n",
    "plt.ylabel(\" Costs \")\n",
    "plt.show()\n",
    "\n",
    "# visualization of testing data\n",
    "plt.plot(ctest)\n",
    "plt.title(\" Testing Costs vs Epochs \")\n",
    "plt.xlabel(\" Epochs \")\n",
    "plt.ylabel(\" Costs \")\n",
    "plt.show()"
   ]
  },
  {
   "cell_type": "code",
   "execution_count": 162,
   "metadata": {},
   "outputs": [],
   "source": [
    "#!pip install xgboost"
   ]
  },
  {
   "cell_type": "code",
   "execution_count": 195,
   "metadata": {},
   "outputs": [],
   "source": [
    "from sklearn.linear_model import SGDRegressor,LinearRegression,Ridge,Lasso,ElasticNet\n",
    "from sklearn.ensemble import GradientBoostingRegressor,RandomForestRegressor,AdaBoostRegressor\n",
    "from sklearn.tree import DecisionTreeRegressor\n",
    "from xgboost import XGBRegressor\n",
    "from sklearn.compose import TransformedTargetRegressor\n",
    "from sklearn.model_selection import GridSearchCV, RandomizedSearchCV\n",
    "\n",
    "model_dict={} \n",
    "model1=LinearRegression()#(penalty = 'l1') #['l1', 'l2']\n",
    "model2=SGDRegressor()\n",
    "model3=Ridge() \n",
    "model4=Lasso()\n",
    "model5=ElasticNet(alpha=0.01) \n",
    "model6=DecisionTreeRegressor(max_depth=20,random_state=46,min_samples_leaf= 29,min_samples_split= 58,\n",
    "                          max_leaf_nodes= 50)\n",
    "\n",
    "model7=GradientBoostingRegressor(max_depth=20,random_state=46,min_samples_leaf= 29,min_samples_split= 58,\n",
    "                          max_leaf_nodes= 50,n_estimators=250)\n",
    "model8=XGBRegressor(max_depth=20,random_state=46,min_samples_leaf= 29,min_samples_split= 58,\n",
    "                          max_leaf_nodes= 50,n_estimators=250)\n",
    "\n",
    "\n",
    "model9=AdaBoostRegressor(DecisionTreeRegressor(max_depth=3,min_samples_leaf=500,min_samples_split= 580),random_state=46,n_estimators=500,learning_rate=0.3)\n",
    "model10=RandomForestRegressor(max_depth=20,random_state=46,min_samples_leaf= 29,min_samples_split= 58,\n",
    "                          max_leaf_nodes= 50,n_estimators=30)"
   ]
  },
  {
   "cell_type": "code",
   "execution_count": 175,
   "metadata": {},
   "outputs": [],
   "source": [
    "#train test split\n",
    "from sklearn.model_selection import train_test_split\n",
    "X_train, X_test, y_train, y_test = train_test_split(xtrain,ytrain, test_size=0.25, random_state=55)"
   ]
  },
  {
   "cell_type": "code",
   "execution_count": 185,
   "metadata": {},
   "outputs": [
    {
     "name": "stdout",
     "output_type": "stream",
     "text": [
      "[10:12:43] WARNING: C:/Users/Administrator/workspace/xgboost-win64_release_1.4.0/src/learner.cc:573: \n",
      "Parameters: { \"max_leaf_nodes\", \"min_samples_leaf\", \"min_samples_split\" } might not be used.\n",
      "\n",
      "  This may not be accurate due to some parameters are only used in language bindings but\n",
      "  passed down to XGBoost core.  Or some parameters are not used but slip through this\n",
      "  verification. Please open an issue if you find above cases.\n",
      "\n",
      "\n"
     ]
    },
    {
     "data": {
      "text/plain": [
       "RandomForestRegressor(max_depth=20, max_leaf_nodes=50, min_samples_leaf=29,\n",
       "                      min_samples_split=58, n_estimators=30, random_state=46)"
      ]
     },
     "execution_count": 185,
     "metadata": {},
     "output_type": "execute_result"
    }
   ],
   "source": [
    "model1.fit(X_train, y_train)\n",
    "model2.fit(X_train, y_train)\n",
    "model3.fit(X_train, y_train)\n",
    "model4.fit(X_train, y_train)\n",
    "model5.fit(X_train, y_train)\n",
    "model6.fit(X_train, y_train)\n",
    "model7.fit(X_train, y_train)\n",
    "model8.fit(X_train, y_train)\n",
    "model9.fit(X_train, y_train)\n",
    "model10.fit(X_train, y_train)"
   ]
  },
  {
   "cell_type": "code",
   "execution_count": 187,
   "metadata": {},
   "outputs": [
    {
     "name": "stdout",
     "output_type": "stream",
     "text": [
      "0.5686225974578395\n",
      "-2.8904029039261e+19\n",
      "0.5686131721568255\n",
      "0.5680131009897287\n",
      "0.5482520960319436\n",
      "0.6349118046317368\n",
      "0.8594885149133732\n",
      "0.9999999999995983\n",
      "0.3923697250316368\n",
      "0.6439433885744466\n"
     ]
    }
   ],
   "source": [
    "#print(model2.score(X_test, y_test))\n",
    "print(model1.score(X_train, y_train))\n",
    "print(model2.score(X_train, y_train))\n",
    "print(model3.score(X_train, y_train))\n",
    "print(model4.score(X_train, y_train))\n",
    "print(model5.score(X_train, y_train))\n",
    "print(model6.score(X_train, y_train))\n",
    "print(model7.score(X_train, y_train))\n",
    "print(model8.score(X_train, y_train))\n",
    "print(model9.score(X_train, y_train))\n",
    "print(model10.score(X_train, y_train))"
   ]
  },
  {
   "cell_type": "code",
   "execution_count": 189,
   "metadata": {},
   "outputs": [
    {
     "name": "stdout",
     "output_type": "stream",
     "text": [
      "[10:13:42] WARNING: C:/Users/Administrator/workspace/xgboost-win64_release_1.4.0/src/learner.cc:573: \n",
      "Parameters: { \"max_leaf_nodes\", \"min_samples_leaf\", \"min_samples_split\" } might not be used.\n",
      "\n",
      "  This may not be accurate due to some parameters are only used in language bindings but\n",
      "  passed down to XGBoost core.  Or some parameters are not used but slip through this\n",
      "  verification. Please open an issue if you find above cases.\n",
      "\n",
      "\n"
     ]
    },
    {
     "data": {
      "text/plain": [
       "XGBRegressor(base_score=0.5, booster='gbtree', colsample_bylevel=1,\n",
       "             colsample_bynode=1, colsample_bytree=1, gamma=0, gpu_id=-1,\n",
       "             importance_type='gain', interaction_constraints='',\n",
       "             learning_rate=0.300000012, max_delta_step=0, max_depth=20,\n",
       "             max_leaf_nodes=50, min_child_weight=1, min_samples_leaf=29,\n",
       "             min_samples_split=58, missing=nan, monotone_constraints='()',\n",
       "             n_estimators=250, n_jobs=8, num_parallel_tree=1, random_state=46,\n",
       "             reg_alpha=0, reg_lambda=1, scale_pos_weight=1, subsample=1,\n",
       "             tree_method='exact', validate_parameters=1, verbosity=None)"
      ]
     },
     "execution_count": 189,
     "metadata": {},
     "output_type": "execute_result"
    }
   ],
   "source": [
    "model8.fit(xtrain,ytrain)"
   ]
  },
  {
   "cell_type": "code",
   "execution_count": 190,
   "metadata": {},
   "outputs": [],
   "source": [
    "sol=model8.predict(xtest)"
   ]
  },
  {
   "cell_type": "code",
   "execution_count": 211,
   "metadata": {},
   "outputs": [],
   "source": [
    "sub=pd.read_csv('sample_submission_8RXa3c6.csv')"
   ]
  },
  {
   "cell_type": "code",
   "execution_count": 212,
   "metadata": {},
   "outputs": [],
   "source": [
    "sub['Item_Outlet_Sales']=sol"
   ]
  },
  {
   "cell_type": "code",
   "execution_count": 213,
   "metadata": {},
   "outputs": [],
   "source": [
    "sub.to_csv('sub5.csv')"
   ]
  },
  {
   "cell_type": "code",
   "execution_count": 196,
   "metadata": {},
   "outputs": [
    {
     "data": {
      "text/plain": [
       "ElasticNet(alpha=0.01)"
      ]
     },
     "execution_count": 196,
     "metadata": {},
     "output_type": "execute_result"
    }
   ],
   "source": [
    "model5.fit(X_train, y_train)"
   ]
  },
  {
   "cell_type": "code",
   "execution_count": 197,
   "metadata": {},
   "outputs": [
    {
     "data": {
      "text/plain": [
       "0.5677685656801106"
      ]
     },
     "execution_count": 197,
     "metadata": {},
     "output_type": "execute_result"
    }
   ],
   "source": [
    "model5.score(X_train,y_train)"
   ]
  },
  {
   "cell_type": "code",
   "execution_count": 198,
   "metadata": {},
   "outputs": [
    {
     "data": {
      "text/plain": [
       "ElasticNet(alpha=0.01)"
      ]
     },
     "execution_count": 198,
     "metadata": {},
     "output_type": "execute_result"
    }
   ],
   "source": [
    "model5.fit(xtrain,ytrain)"
   ]
  },
  {
   "cell_type": "code",
   "execution_count": 208,
   "metadata": {},
   "outputs": [],
   "source": [
    "sol=model5.predict(xtest)"
   ]
  },
  {
   "cell_type": "code",
   "execution_count": 209,
   "metadata": {},
   "outputs": [
    {
     "data": {
      "text/plain": [
       "array([1831.88265477, 1531.21440831, 1961.61859695, ..., 1795.87806561,\n",
       "       3550.2589734 , 1308.88784866])"
      ]
     },
     "execution_count": 209,
     "metadata": {},
     "output_type": "execute_result"
    }
   ],
   "source": [
    "sol\n"
   ]
  },
  {
   "cell_type": "code",
   "execution_count": 188,
   "metadata": {},
   "outputs": [
    {
     "name": "stdout",
     "output_type": "stream",
     "text": [
      "Requirement already satisfied: xgboost in c:\\programdata\\anaconda3\\lib\\site-packages (1.4.2)\n",
      "Requirement already satisfied: scipy in c:\\programdata\\anaconda3\\lib\\site-packages (from xgboost) (1.5.2)\n",
      "Requirement already satisfied: numpy in c:\\programdata\\anaconda3\\lib\\site-packages (from xgboost) (1.19.2)\n"
     ]
    }
   ],
   "source": [
    "!pip install xgboost"
   ]
  },
  {
   "cell_type": "code",
   "execution_count": 190,
   "metadata": {},
   "outputs": [],
   "source": [
    "from xgboost import XGBRegressor"
   ]
  },
  {
   "cell_type": "code",
   "execution_count": null,
   "metadata": {},
   "outputs": [],
   "source": [
    "XGBRegressor(random_state=123,gamma= 24.47 ,learning_rate=0.1235,max_depth=10,min_child_weight=0.21509999999999999,\n",
    "                      n_estimators=570,subsample=0.74,reg_lambda=0.8)"
   ]
  },
  {
   "cell_type": "code",
   "execution_count": null,
   "metadata": {},
   "outputs": [],
   "source": []
  },
  {
   "cell_type": "code",
   "execution_count": null,
   "metadata": {},
   "outputs": [],
   "source": []
  },
  {
   "cell_type": "code",
   "execution_count": null,
   "metadata": {},
   "outputs": [],
   "source": []
  },
  {
   "cell_type": "code",
   "execution_count": null,
   "metadata": {},
   "outputs": [],
   "source": []
  },
  {
   "cell_type": "code",
   "execution_count": null,
   "metadata": {},
   "outputs": [],
   "source": []
  },
  {
   "cell_type": "code",
   "execution_count": null,
   "metadata": {},
   "outputs": [],
   "source": []
  },
  {
   "cell_type": "code",
   "execution_count": null,
   "metadata": {},
   "outputs": [],
   "source": []
  },
  {
   "cell_type": "code",
   "execution_count": null,
   "metadata": {},
   "outputs": [],
   "source": []
  },
  {
   "cell_type": "code",
   "execution_count": null,
   "metadata": {},
   "outputs": [],
   "source": []
  }
 ],
 "metadata": {
  "kernelspec": {
   "display_name": "Python 3",
   "language": "python",
   "name": "python3"
  },
  "language_info": {
   "codemirror_mode": {
    "name": "ipython",
    "version": 3
   },
   "file_extension": ".py",
   "mimetype": "text/x-python",
   "name": "python",
   "nbconvert_exporter": "python",
   "pygments_lexer": "ipython3",
   "version": "3.8.5"
  }
 },
 "nbformat": 4,
 "nbformat_minor": 4
}
